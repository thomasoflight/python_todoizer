{
 "cells": [
  {
   "cell_type": "code",
   "execution_count": 22,
   "metadata": {},
   "outputs": [],
   "source": [
    "my_todo_list = [ ]"
   ]
  },
  {
   "cell_type": "code",
   "execution_count": 23,
   "metadata": {},
   "outputs": [],
   "source": [
    "def I_show_how_many_todos_there_are(any_list):\n",
    "    print(f\"there are {len(any_list)} todos in my list so far\")"
   ]
  },
  {
   "cell_type": "code",
   "execution_count": 24,
   "metadata": {},
   "outputs": [],
   "source": [
    "def I_print_more_stuff(the_list_I_put_here):\n",
    "    listie = the_list_I_put_here\n",
    "    \n",
    "    print()\n",
    "    print(\"CHECK OUT MY TODOS!\")\n",
    "    for single_todo in listie:\n",
    "        print(f\"--> {single_todo}\")"
   ]
  },
  {
   "cell_type": "code",
   "execution_count": 25,
   "metadata": {},
   "outputs": [],
   "source": [
    "def I_print_stuff(todo):\n",
    "    print(f\"->I just added '{todo}' to my todolist!<-\")"
   ]
  },
  {
   "cell_type": "code",
   "execution_count": 26,
   "metadata": {
    "scrolled": true
   },
   "outputs": [
    {
     "name": "stdout",
     "output_type": "stream",
     "text": [
      "there are 0 todos in my list so far\n",
      "Let's make some todos!\n",
      "What shall I do? milk\n",
      "->I just added 'milk' to my todolist!<-\n",
      "What else...? cheese\n",
      "->I just added 'cheese' to my todolist!<-\n",
      "Maybe a third? apples\n",
      "->I just added 'apples' to my todolist!<-\n",
      "\n",
      "CHECK OUT MY TODOS!\n",
      "--> milk\n",
      "--> cheese\n",
      "--> apples\n"
     ]
    }
   ],
   "source": [
    "def I_am_the_boss():\n",
    "    I_show_how_many_todos_there_are(my_todo_list)\n",
    "    \n",
    "    print(\"Let's make some todos!\")\n",
    "    \n",
    "    my_first_todo = input(\"What shall I do? \")\n",
    "    I_print_stuff(my_first_todo)\n",
    "    \n",
    "    my_second_todo = input(\"What else...? \")\n",
    "    I_print_stuff(my_second_todo)\n",
    "    \n",
    "    my_third_todo = input(\"Maybe a third? \")\n",
    "    I_print_stuff(my_third_todo)\n",
    "    \n",
    "    my_todo_list.append(my_first_todo)\n",
    "    my_todo_list.append(my_second_todo)\n",
    "    my_todo_list.append(my_third_todo)\n",
    "    \n",
    "    I_print_more_stuff(my_todo_list)\n",
    "        \n",
    "I_am_the_boss()"
   ]
  },
  {
   "cell_type": "code",
   "execution_count": null,
   "metadata": {},
   "outputs": [],
   "source": []
  }
 ],
 "metadata": {
  "kernelspec": {
   "display_name": "Python 3",
   "language": "python",
   "name": "python3"
  },
  "language_info": {
   "codemirror_mode": {
    "name": "ipython",
    "version": 3
   },
   "file_extension": ".py",
   "mimetype": "text/x-python",
   "name": "python",
   "nbconvert_exporter": "python",
   "pygments_lexer": "ipython3",
   "version": "3.6.3"
  }
 },
 "nbformat": 4,
 "nbformat_minor": 2
}
