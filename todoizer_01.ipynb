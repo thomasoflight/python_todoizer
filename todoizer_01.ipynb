{
 "cells": [
  {
   "cell_type": "code",
   "execution_count": 24,
   "metadata": {},
   "outputs": [],
   "source": [
    "my_todo_list = [ ]"
   ]
  },
  {
   "cell_type": "code",
   "execution_count": 25,
   "metadata": {},
   "outputs": [],
   "source": [
    "def main_menu():\n",
    "    print(\"Main Menu!\")\n",
    "    action = input(\n",
    "        \"\"\"\n",
    "        Press 1 to add some todos!\n",
    "        Press 2 to see your todos!\n",
    "        Press 3 to fly the rocket!\n",
    "        \"\"\")\n",
    "    return action\n",
    "    \n",
    "        \n",
    "        "
   ]
  },
  {
   "cell_type": "code",
   "execution_count": 26,
   "metadata": {},
   "outputs": [],
   "source": [
    "def add_a_todo():\n",
    "\n",
    "    new_todo = input(\"Hello, what would you like to add? \")\n",
    "\n",
    "    while new_todo != \"00\":\n",
    "        my_todo_list.append(new_todo)\n",
    "        print(f\"you have just added {new_todo} to your list!\")\n",
    "        \n",
    "        new_todo = input(\"\"\"\n",
    "Type '00' for MAIN MENU \n",
    "-or- \n",
    "add another? \"\"\")\n",
    "        \n",
    "        if new_todo == \"00\":\n",
    "            break\n",
    "        \n",
    "        \n"
   ]
  },
  {
   "cell_type": "code",
   "execution_count": 27,
   "metadata": {},
   "outputs": [],
   "source": [
    "def view_my_todos():\n",
    "    print(\"MY TODOS\")\n",
    "    \n",
    "    viewing = \"---\"\n",
    "    \n",
    "    while viewing != \"00\":\n",
    "        for each_todo in my_todo_list:\n",
    "            print(f\"{each_todo}\")\n",
    "        \n",
    "        print()\n",
    "        viewing = input(\"\"\"\n",
    "type '00' to go to MAIN MENU\n",
    "-or-\n",
    "type '1' to see your todo items again\"\"\")\n",
    "    "
   ]
  },
  {
   "cell_type": "code",
   "execution_count": null,
   "metadata": {
    "scrolled": true
   },
   "outputs": [
    {
     "name": "stdout",
     "output_type": "stream",
     "text": [
      "Main Menu!\n",
      "\n",
      "        Press 1 to add some todos!\n",
      "        Press 2 to see your todos!\n",
      "        Press 3 to fly the rocket!\n",
      "        1\n",
      "Hello, what would you like to add? cheese\n",
      "you have just added cheese to your list!\n",
      "\n",
      "Type '00' for MAIN MENU \n",
      "-or- \n",
      "add another? 00\n",
      "Main Menu!\n",
      "\n",
      "        Press 1 to add some todos!\n",
      "        Press 2 to see your todos!\n",
      "        Press 3 to fly the rocket!\n",
      "        2\n",
      "MY TODOS\n",
      "cheese\n",
      "\n"
     ]
    }
   ],
   "source": [
    "def whooooooosh():\n",
    "\n",
    "    action = \"---\"\n",
    "\n",
    "    while action != \"00\":\n",
    "        action = main_menu()\n",
    "        \n",
    "        if action == '1':\n",
    "            add_a_todo()\n",
    "        elif action == '2':\n",
    "            view_my_todos()\n",
    "        else:\n",
    "            print(\"hmmmm...\")\n",
    "        \n",
    "        \n",
    "whooooooosh()"
   ]
  },
  {
   "cell_type": "code",
   "execution_count": null,
   "metadata": {},
   "outputs": [],
   "source": []
  }
 ],
 "metadata": {
  "kernelspec": {
   "display_name": "Python 3",
   "language": "python",
   "name": "python3"
  },
  "language_info": {
   "codemirror_mode": {
    "name": "ipython",
    "version": 3
   },
   "file_extension": ".py",
   "mimetype": "text/x-python",
   "name": "python",
   "nbconvert_exporter": "python",
   "pygments_lexer": "ipython3",
   "version": "3.6.3"
  }
 },
 "nbformat": 4,
 "nbformat_minor": 2
}
